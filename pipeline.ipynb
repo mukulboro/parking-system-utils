{
 "cells": [
  {
   "cell_type": "code",
   "execution_count": 1,
   "metadata": {},
   "outputs": [],
   "source": [
    "from constants import *\n",
    "\n",
    "import matplotlib.pyplot as plt\n",
    "\n",
    "smaller_sets_dir = [Emb_Dir, Pro_Dir, Reg_Dir]"
   ]
  },
  {
   "cell_type": "code",
   "execution_count": 2,
   "metadata": {},
   "outputs": [],
   "source": [
    "from packages import resize, blur, rotate, contrast, exposure, noise, filter_annotations\n",
    "import json\n",
    "import cv2 as cv\n",
    "def augment_all_images(list_of_dirs:list, output_directory:str):\n",
    "    for dir in list_of_dirs:\n",
    "        with open(f\"{dir}/annot.json\") as f:\n",
    "            unfiltered = json.loads(f.read())\n",
    "        filtered_data = filter_annotations(unfiltered)\n",
    "        for data in filtered_data:\n",
    "            file_name, ext = data[\"img_name\"].split(\".\")\n",
    "            image = cv.imread(f\"{dir}/{file_name}.{ext}\")\n",
    "            #--------------RESIZE-------------------------#\n",
    "            image = resize(image)\n",
    "            cv.imwrite(f\"{output_directory}/{file_name}.{ext}\", image)\n",
    "            with open(f\"{output_directory}/{file_name}.json\", \"w\") as f:\n",
    "                f.write(json.dumps(data))\n",
    "            #--------------BLUR-------------------------#\n",
    "            blur_image = blur(image)\n",
    "            cv.imwrite(f\"{output_directory}/{file_name}_blurred.{ext}\", blur_image)\n",
    "            with open(f\"{output_directory}/{file_name}_blurred.json\", \"w\") as f:\n",
    "                f.write(json.dumps(data))\n",
    "            #--------------CONTRAST-------------------------#\n",
    "            contrast_image = contrast(image)\n",
    "            cv.imwrite(f\"{output_directory}/{file_name}_contrast.{ext}\", contrast_image)\n",
    "            with open(f\"{output_directory}/{file_name}_contrast.json\", \"w\") as f:\n",
    "                f.write(json.dumps(data))\n",
    "            #--------------EXPOSURE-------------------------#\n",
    "            exposure_image = exposure(image)\n",
    "            cv.imwrite(f\"{output_directory}/{file_name}_exposure.{ext}\", exposure_image)\n",
    "            with open(f\"{output_directory}/{file_name}_exposure.json\", \"w\") as f:\n",
    "                f.write(json.dumps(data))\n",
    "            #--------------NOISE-------------------------#\n",
    "            noise_image = noise(image)\n",
    "            cv.imwrite(f\"{output_directory}/{file_name}_noise.{ext}\", noise_image)\n",
    "            with open(f\"{output_directory}/{file_name}_noise.json\", \"w\") as f:\n",
    "                f.write(json.dumps(data))\n",
    "            #--------------ROTATE-------------------------#\n",
    "            # rotate_image = rotate(image)\n",
    "            # cv.imwrite(f\"{output_directory}/{file_name}_rotate.{ext}\", noise_image)\n",
    "            # with open(f\"{output_directory}/{file_name}_rotate.json\", \"w\") as f:\n",
    "            #     f.write(json.dumps(data))\n",
    "    \n",
    "augment_all_images(list_of_dirs=smaller_sets_dir, output_directory=\"augmented_data\")"
   ]
  }
 ],
 "metadata": {
  "kernelspec": {
   "display_name": "base",
   "language": "python",
   "name": "python3"
  },
  "language_info": {
   "codemirror_mode": {
    "name": "ipython",
    "version": 3
   },
   "file_extension": ".py",
   "mimetype": "text/x-python",
   "name": "python",
   "nbconvert_exporter": "python",
   "pygments_lexer": "ipython3",
   "version": "3.11.7"
  }
 },
 "nbformat": 4,
 "nbformat_minor": 2
}
