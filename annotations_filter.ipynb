{
 "cells": [
  {
   "cell_type": "code",
   "execution_count": 1,
   "metadata": {},
   "outputs": [],
   "source": [
    "from constants import *\n",
    "import json"
   ]
  },
  {
   "cell_type": "code",
   "execution_count": 3,
   "metadata": {},
   "outputs": [
    {
     "data": {
      "text/plain": [
       "[{'img_name': 'IMG_20240412_134730.jpg',\n",
       "  'width': 3072,\n",
       "  'height': 4080,\n",
       "  'annotations': [{'label': 'emb',\n",
       "    'x_max': 976.9014084507044,\n",
       "    'y_max': 1896.338028169014,\n",
       "    'x_min': 1810.1408450704225,\n",
       "    'y_min': 2116.6197183098593,\n",
       "    'bb_h': 220.2816901408453,\n",
       "    'bb_w': 833.2394366197182}]},\n",
       " {'img_name': 'IMG_20240412_160047.jpg',\n",
       "  'width': 3072,\n",
       "  'height': 4080,\n",
       "  'annotations': [{'label': 'emb',\n",
       "    'x_max': 861.9718309859155,\n",
       "    'y_max': 2049.5774647887324,\n",
       "    'x_min': 1628.1690140845071,\n",
       "    'y_min': 2528.4507042253517,\n",
       "    'bb_h': 478.8732394366195,\n",
       "    'bb_w': 766.1971830985916}]},\n",
       " {'img_name': 'IMG_20240412_160138.jpg',\n",
       "  'width': 3072,\n",
       "  'height': 4080,\n",
       "  'annotations': [{'label': 'emb',\n",
       "    'x_max': 823.661971830986,\n",
       "    'y_max': 1580.281690140845,\n",
       "    'x_min': 1541.9718309859154,\n",
       "    'y_min': 1982.5352112676055,\n",
       "    'bb_h': 402.2535211267605,\n",
       "    'bb_w': 718.3098591549293}]},\n",
       " {'img_name': 'IMG_20240412_160141.jpg',\n",
       "  'width': 3072,\n",
       "  'height': 4080,\n",
       "  'annotations': [{'label': 'emb',\n",
       "    'x_max': 785.3521126760563,\n",
       "    'y_max': 1733.5211267605634,\n",
       "    'x_min': 1570.7042253521126,\n",
       "    'y_min': 2442.2535211267605,\n",
       "    'bb_h': 708.732394366197,\n",
       "    'bb_w': 785.3521126760563}]}]"
      ]
     },
     "execution_count": 3,
     "metadata": {},
     "output_type": "execute_result"
    }
   ],
   "source": [
    "def filter_annotations(anno:list)->list:\n",
    "    filtered_annos = []\n",
    "    for a in anno:\n",
    "        labels = []\n",
    "        image_name = a[\"image\"].split(\"/\")[-1].split(\"-\")[-1]\n",
    "        w, h = a[\"label\"][0][\"original_width\"], a[\"label\"][0][\"original_height\"]\n",
    "        for l in a[\"label\"]:\n",
    "            true_x = float((l[\"x\"]/100)*w)\n",
    "            true_y = float((l[\"y\"]/100)*h)\n",
    "            true_bb_h = float((l[\"height\"]/100)*h)\n",
    "            true_bb_w = float((l[\"width\"]/100)*w)\n",
    "            \n",
    "            labels.append({\n",
    "                \"label\": l[\"rectanglelabels\"][0],\n",
    "                \"x_max\": true_x,\n",
    "                \"y_max\": true_y,\n",
    "                \"x_min\": true_x+true_bb_w,\n",
    "                \"y_min\": true_y+true_bb_h,\n",
    "                \"bb_h\": true_bb_h,\n",
    "                \"bb_w\": true_bb_w\n",
    "            })\n",
    "        filtered_annos.append({\n",
    "            \"img_name\": image_name,\n",
    "            \"width\": w,\n",
    "            \"height\": h,\n",
    "            \"annotations\": labels\n",
    "        })\n",
    "    return filtered_annos   \n",
    "    \n",
    "\n",
    "with open(f\"{Emb_Dir}/annot.json\", \"r\") as anno:\n",
    "    data = anno.read()\n",
    "    \n",
    "annotations = json.loads(data)\n",
    "\n",
    "filtred = filter_annotations(annotations)\n",
    "\n",
    "filtred\n"
   ]
  }
 ],
 "metadata": {
  "kernelspec": {
   "display_name": "base",
   "language": "python",
   "name": "python3"
  },
  "language_info": {
   "codemirror_mode": {
    "name": "ipython",
    "version": 3
   },
   "file_extension": ".py",
   "mimetype": "text/x-python",
   "name": "python",
   "nbconvert_exporter": "python",
   "pygments_lexer": "ipython3",
   "version": "3.11.7"
  }
 },
 "nbformat": 4,
 "nbformat_minor": 2
}
