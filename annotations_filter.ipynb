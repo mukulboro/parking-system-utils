{
 "cells": [
  {
   "cell_type": "code",
   "execution_count": 1,
   "metadata": {},
   "outputs": [],
   "source": [
    "from constants import *\n",
    "import json"
   ]
  },
  {
   "cell_type": "code",
   "execution_count": 1,
   "metadata": {},
   "outputs": [],
   "source": [
    "def filter_annotations(anno:list)->list:\n",
    "    filtered_annos = []\n",
    "    for a in anno:\n",
    "        labels = []\n",
    "        image_name = a[\"image\"].split(\"/\")[-1].split(\"-\")[-1]\n",
    "        w, h = a[\"label\"][0][\"original_width\"], a[\"label\"][0][\"original_height\"]\n",
    "        for l in a[\"label\"]:\n",
    "            true_x = float((l[\"x\"]/100)*w)\n",
    "            true_y = float((l[\"y\"]/100)*h)\n",
    "            true_bb_h = float((l[\"height\"]/100)*h)\n",
    "            true_bb_w = float((l[\"width\"]/100)*w)\n",
    "            \n",
    "            labels.append({\n",
    "                \"label\": l[\"rectanglelabels\"][0],\n",
    "                \"x_max\": true_x,\n",
    "                \"y_max\": true_y,\n",
    "                \"x_min\": true_x+true_bb_w,\n",
    "                \"y_min\": true_y+true_bb_h,\n",
    "                \"bb_h\": true_bb_h,\n",
    "                \"bb_w\": true_bb_w,\n",
    "                \"n_x_max\": (true_x)/w,\n",
    "                \"n_y_max\": (true_y)/h,\n",
    "                \"n_x_min\": (true_x+true_bb_w)/w,\n",
    "                \"n_y_min\": (true_y+true_bb_h)/h,\n",
    "            })\n",
    "        filtered_annos.append({\n",
    "            \"img_name\": image_name,\n",
    "            \"width\": w,\n",
    "            \"height\": h,\n",
    "            \"annotations\": labels\n",
    "        })\n",
    "    return filtered_annos   \n",
    "    "
   ]
  }
 ],
 "metadata": {
  "kernelspec": {
   "display_name": "base",
   "language": "python",
   "name": "python3"
  },
  "language_info": {
   "codemirror_mode": {
    "name": "ipython",
    "version": 3
   },
   "file_extension": ".py",
   "mimetype": "text/x-python",
   "name": "python",
   "nbconvert_exporter": "python",
   "pygments_lexer": "ipython3",
   "version": "3.11.7"
  }
 },
 "nbformat": 4,
 "nbformat_minor": 2
}
